{
  "nbformat": 4,
  "nbformat_minor": 0,
  "metadata": {
    "colab": {
      "name": "Investment-Decision.ipynb",
      "provenance": [],
      "collapsed_sections": [],
      "toc_visible": true
    },
    "kernelspec": {
      "name": "python3",
      "display_name": "Python 3"
    },
    "language_info": {
      "name": "python"
    }
  },
  "cells": [
    {
      "cell_type": "markdown",
      "source": [
        "### 1. Importing packages"
      ],
      "metadata": {
        "id": "49B9qRa58AKt"
      }
    },
    {
      "cell_type": "code",
      "execution_count": null,
      "metadata": {
        "id": "ptPvyHSbW5Iq"
      },
      "outputs": [],
      "source": [
        "!pip install gurobipy"
      ]
    },
    {
      "cell_type": "code",
      "source": [
        "import gurobipy as gp\n",
        "from gurobipy import GRB"
      ],
      "metadata": {
        "id": "l60STxD_rD1S"
      },
      "execution_count": null,
      "outputs": []
    },
    {
      "cell_type": "code",
      "source": [
        "import pandas as pd"
      ],
      "metadata": {
        "id": "ggNCM6CKrOXo"
      },
      "execution_count": null,
      "outputs": []
    },
    {
      "cell_type": "markdown",
      "source": [
        "### 2. Loading dataset"
      ],
      "metadata": {
        "id": "LRxJyfbM8H5Q"
      }
    },
    {
      "cell_type": "code",
      "source": [
        "pred_df = pd.read_csv('examSetPred.csv', index_col=0)"
      ],
      "metadata": {
        "id": "lbX8r5V6rRHf"
      },
      "execution_count": null,
      "outputs": []
    },
    {
      "cell_type": "markdown",
      "source": [
        "### 3. Modeling"
      ],
      "metadata": {
        "id": "pZr5KEAD9fqc"
      }
    },
    {
      "cell_type": "code",
      "source": [
        "# shale gas price ($5 per 1 Mcf)\n",
        "shale_gas_price = 5\n",
        "\n",
        "# given budget\n",
        "budget = 15000000"
      ],
      "metadata": {
        "id": "-3jOe3pQ2CXn"
      },
      "execution_count": null,
      "outputs": []
    },
    {
      "cell_type": "code",
      "source": [
        "try:\n",
        "    # model\n",
        "    investment_model = gp.Model('investment')\n",
        "\n",
        "    # variables\n",
        "    X = {}\n",
        "    for i in pred_df.index:\n",
        "        X[i] = investment_model.addVar(vtype=GRB.BINARY, name=f'X{i}')\n",
        "\n",
        "    # max objective\n",
        "    A, P, C = {}, {}, {}\n",
        "    for i in pred_df.index:\n",
        "        A[i] = pred_df.loc[i][pred_df.columns[0]]\n",
        "        P[i] = pred_df.loc[i][pred_df.columns[1]]\n",
        "        C[i] = pred_df.loc[i][pred_df.columns[2]]\n",
        "    \n",
        "    obj = gp.quicksum((6*A[i]*shale_gas_price - P[i] - 6*C[i])*X[i] for i in pred_df.index)\n",
        "    investment_model.setObjective(obj, GRB.MAXIMIZE)\n",
        "\n",
        "    # budget constraint\n",
        "    constr = gp.quicksum(P[i]*X[i] for i in pred_df.index)\n",
        "    investment_model.addConstr(constr <= budget)\n",
        "\n",
        "    # optimizing model\n",
        "    investment_model.optimize()\n",
        "except gp.GurobiError as e:\n",
        "    print(f'Error code {e.errno} : {e}')"
      ],
      "metadata": {
        "colab": {
          "base_uri": "https://localhost:8080/"
        },
        "id": "JgIKGvDdz7j_",
        "outputId": "e96e9301-faf3-410a-f070-bfa2f7a0f7b3"
      },
      "execution_count": null,
      "outputs": [
        {
          "output_type": "stream",
          "name": "stdout",
          "text": [
            "Restricted license - for non-production use only - expires 2023-10-25\n",
            "Gurobi Optimizer version 9.5.0 build v9.5.0rc5 (linux64)\n",
            "Thread count: 1 physical cores, 2 logical processors, using up to 2 threads\n",
            "Optimize a model with 1 rows, 44 columns and 44 nonzeros\n",
            "Model fingerprint: 0xb8049943\n",
            "Variable types: 0 continuous, 44 integer (44 binary)\n",
            "Coefficient statistics:\n",
            "  Matrix range     [8e+04, 6e+06]\n",
            "  Objective range  [7e+03, 4e+06]\n",
            "  Bounds range     [1e+00, 1e+00]\n",
            "  RHS range        [2e+07, 2e+07]\n",
            "Found heuristic solution: objective 1803966.2498\n",
            "\n",
            "Explored 0 nodes (0 simplex iterations) in 0.03 seconds (0.00 work units)\n",
            "Thread count was 1 (of 2 available processors)\n",
            "\n",
            "Solution count 1: 1.80397e+06 \n",
            "\n",
            "Optimal solution found (tolerance 1.00e-04)\n",
            "Best objective 1.803966249800e+06, best bound 1.803966249800e+06, gap 0.0000%\n"
          ]
        }
      ]
    },
    {
      "cell_type": "markdown",
      "source": [
        "### 4. Results"
      ],
      "metadata": {
        "id": "oTLD9jUW9kRU"
      }
    },
    {
      "cell_type": "code",
      "source": [
        "print(f'Max. Profit = {investment_model.objVal}')\n",
        "# getting decision\n",
        "for X in investment_model.getVars():\n",
        "    print(X)"
      ],
      "metadata": {
        "colab": {
          "base_uri": "https://localhost:8080/"
        },
        "id": "CGsjJk4U31C4",
        "outputId": "15b0519b-4bfe-4c5d-e8b5-538a1de41dbd"
      },
      "execution_count": null,
      "outputs": [
        {
          "output_type": "stream",
          "name": "stdout",
          "text": [
            "Max. Profit = 1803966.2498000003\n",
            "gurobi.Var X17 (value -0.0)\n",
            "gurobi.Var X18 (value 1.0)\n",
            "gurobi.Var X19 (value 1.0)\n",
            "gurobi.Var X20 (value -0.0)\n",
            "gurobi.Var X23 (value -0.0)\n",
            "gurobi.Var X24 (value 1.0)\n",
            "gurobi.Var X25 (value -0.0)\n",
            "gurobi.Var X26 (value -0.0)\n",
            "gurobi.Var X39 (value -0.0)\n",
            "gurobi.Var X98 (value -0.0)\n",
            "gurobi.Var X99 (value -0.0)\n",
            "gurobi.Var X100 (value -0.0)\n",
            "gurobi.Var X126 (value -0.0)\n",
            "gurobi.Var X132 (value -0.0)\n",
            "gurobi.Var X133 (value 1.0)\n",
            "gurobi.Var X291 (value -0.0)\n",
            "gurobi.Var X292 (value -0.0)\n",
            "gurobi.Var X293 (value -0.0)\n",
            "gurobi.Var X297 (value -0.0)\n",
            "gurobi.Var X298 (value -0.0)\n",
            "gurobi.Var X299 (value 1.0)\n",
            "gurobi.Var X300 (value -0.0)\n",
            "gurobi.Var X301 (value -0.0)\n",
            "gurobi.Var X306 (value -0.0)\n",
            "gurobi.Var X307 (value -0.0)\n",
            "gurobi.Var X308 (value -0.0)\n",
            "gurobi.Var X309 (value -0.0)\n",
            "gurobi.Var X310 (value -0.0)\n",
            "gurobi.Var X311 (value -0.0)\n",
            "gurobi.Var X312 (value 1.0)\n",
            "gurobi.Var X313 (value -0.0)\n",
            "gurobi.Var X324 (value -0.0)\n",
            "gurobi.Var X325 (value -0.0)\n",
            "gurobi.Var X326 (value -0.0)\n",
            "gurobi.Var X327 (value -0.0)\n",
            "gurobi.Var X328 (value -0.0)\n",
            "gurobi.Var X329 (value -0.0)\n",
            "gurobi.Var X330 (value -0.0)\n",
            "gurobi.Var X334 (value -0.0)\n",
            "gurobi.Var X338 (value -0.0)\n",
            "gurobi.Var X339 (value -0.0)\n",
            "gurobi.Var X340 (value -0.0)\n",
            "gurobi.Var X342 (value -0.0)\n",
            "gurobi.Var X343 (value -0.0)\n"
          ]
        }
      ]
    },
    {
      "cell_type": "code",
      "source": [
        ""
      ],
      "metadata": {
        "id": "AO_YYGXX6hfc"
      },
      "execution_count": null,
      "outputs": []
    }
  ]
}
