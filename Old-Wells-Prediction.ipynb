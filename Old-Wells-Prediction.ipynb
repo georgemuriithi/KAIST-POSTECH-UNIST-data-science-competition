{
  "cells": [
    {
      "cell_type": "markdown",
      "source": [
        "### 1. Importing packages"
      ],
      "metadata": {
        "id": "6K222igTq7OA"
      },
      "id": "6K222igTq7OA"
    },
    {
      "cell_type": "code",
      "source": [
        "!pip install statsmodels==0.13.1"
      ],
      "metadata": {
        "id": "UIcQuN1BWxAC"
      },
      "id": "UIcQuN1BWxAC",
      "execution_count": null,
      "outputs": []
    },
    {
      "cell_type": "code",
      "source": [
        "import pandas as pd\n",
        "import numpy as np\n",
        "import matplotlib.pyplot as plt\n",
        "%matplotlib inline\n",
        "import warnings\n",
        "warnings.filterwarnings(action='ignore')"
      ],
      "metadata": {
        "id": "FICLAL-EQ2vN"
      },
      "id": "FICLAL-EQ2vN",
      "execution_count": null,
      "outputs": []
    },
    {
      "cell_type": "code",
      "source": [
        "from statsmodels.tsa.api import SimpleExpSmoothing, Holt, ExponentialSmoothing"
      ],
      "metadata": {
        "id": "8gtwYUgJWzlZ"
      },
      "id": "8gtwYUgJWzlZ",
      "execution_count": null,
      "outputs": []
    },
    {
      "cell_type": "markdown",
      "source": [
        "### 2. Loading dataset"
      ],
      "metadata": {
        "id": "he3ssTNlq_so"
      },
      "id": "he3ssTNlq_so"
    },
    {
      "cell_type": "code",
      "source": [
        "exam_df = pd.read_csv('examSet.csv', index_col=1)\n",
        "old_wells_df = exam_df.loc[291:, 'GAS_MONTH_1':'GAS_MONTH_30']\n",
        "old_wells_df = old_wells_df.T\n",
        "\n",
        "index = pd.date_range(start='2019-01-01', freq='M', periods=30)\n",
        "old_wells_df.index = index\n",
        "\n",
        "# replacing 0 with 0.1 for multiplicative models\n",
        "old_wells_df.replace(0, 0.1, inplace=True)\n",
        "\n",
        "old_wells_df.shape"
      ],
      "metadata": {
        "colab": {
          "base_uri": "https://localhost:8080/"
        },
        "id": "vIXpvgpuQpd_",
        "outputId": "e8d49c41-0164-4139-9870-5a5ac703ad34"
      },
      "id": "vIXpvgpuQpd_",
      "execution_count": null,
      "outputs": [
        {
          "output_type": "execute_result",
          "data": {
            "text/plain": [
              "(30, 29)"
            ]
          },
          "metadata": {},
          "execution_count": 5
        }
      ]
    },
    {
      "cell_type": "markdown",
      "source": [
        "### 3. Modeling"
      ],
      "metadata": {
        "id": "C7KaxoEMsy0M"
      },
      "id": "C7KaxoEMsy0M"
    },
    {
      "cell_type": "code",
      "source": [
        "# months to be forecasted\n",
        "n = 6\n",
        "\n",
        "# matplot figure size\n",
        "fig_size = (12, 8)"
      ],
      "metadata": {
        "id": "YqaJBnHESXNd"
      },
      "id": "YqaJBnHESXNd",
      "execution_count": null,
      "outputs": []
    },
    {
      "cell_type": "markdown",
      "source": [
        "#### Simple exponential smoothing"
      ],
      "metadata": {
        "id": "9kqIh86IYgzZ"
      },
      "id": "9kqIh86IYgzZ"
    },
    {
      "cell_type": "code",
      "source": [
        "def ses(well_data):\n",
        "    # fitting and forecasting with different alphas (smoothing levels)\n",
        "    alphas = [0.2, 0.6]\n",
        "\n",
        "    # alpha=0.2\n",
        "    ses_fit1 = SimpleExpSmoothing(well_data, initialization_method='heuristic').fit(\n",
        "                                  smoothing_level=alphas[0], optimized=False)\n",
        "    ses_fcast1 = ses_fit1.forecast(n).rename(r'$\\alpha=0.2$')\n",
        "\n",
        "    # alpha=0.6\n",
        "    ses_fit2 = SimpleExpSmoothing(well_data, initialization_method='heuristic').fit(\n",
        "                                  smoothing_level=alphas[1], optimized=False)\n",
        "    ses_fcast2 = ses_fit2.forecast(n).rename(r'$\\alpha=0.6$')\n",
        "\n",
        "    # letting statsmodels automatically find optimized alpha parameter\n",
        "    ses_fit3 = SimpleExpSmoothing(well_data, initialization_method='estimated').fit()\n",
        "    optim_alpha = ses_fit3.model.params['smoothing_level']\n",
        "    ses_fcast3 = ses_fit3.forecast(n).rename(r'$\\alpha={}$'.format(optim_alpha))\n",
        "\n",
        "    # plotting fitted and forecasted values\n",
        "    plt.figure(figsize=fig_size)\n",
        "    plt.plot(well_data, marker='o', color='black')\n",
        "\n",
        "    plt.plot(ses_fit1.fittedvalues, marker='o', color='blue')\n",
        "    (line1,) = plt.plot(ses_fcast1, marker='o', color='blue')\n",
        "\n",
        "    plt.plot(ses_fit2.fittedvalues, marker='o', color='red')\n",
        "    (line2,) = plt.plot(ses_fcast2, marker='o', color='red')\n",
        "\n",
        "    plt.plot(ses_fit3.fittedvalues, marker='o', color='green')\n",
        "    (line3,) = plt.plot(ses_fcast3, marker='o', color='green')\n",
        "\n",
        "    plt.title('SES')\n",
        "    plt.legend([line1, line2, line3], \n",
        "               [ses_fcast1.name, ses_fcast2.name, ses_fcast3.name])\n",
        "\n",
        "    return ses_fit1, ses_fit2, ses_fit3"
      ],
      "metadata": {
        "id": "9ISTkDO7VSfn"
      },
      "id": "9ISTkDO7VSfn",
      "execution_count": null,
      "outputs": []
    },
    {
      "cell_type": "markdown",
      "source": [
        "#### Holt’s method"
      ],
      "metadata": {
        "id": "s7gJqmFMZ424"
      },
      "id": "s7gJqmFMZ424"
    },
    {
      "cell_type": "code",
      "source": [
        "def holt(well_data):\n",
        "    # letting statsmodels automatically find optimized parameters\n",
        "\n",
        "    # Holt's additive model - double exponential smoothing with linear model\n",
        "    holt_fit1 = Holt(well_data, initialization_method='estimated').fit()\n",
        "    holt_fcast1 = holt_fit1.forecast(n).rename('Additive')\n",
        "\n",
        "    # Holt's multiplicative model - double exponential smoothing with exponential model\n",
        "    holt_fit2 = Holt(well_data, exponential=True, initialization_method='estimated').fit()\n",
        "    holt_fcast2 = holt_fit2.forecast(n).rename('Multiplicative')\n",
        "\n",
        "    # Damped Holt's additive model\n",
        "    holt_fit3 = Holt(well_data, damped_trend=True, initialization_method='estimated').fit()\n",
        "    holt_fcast3 = holt_fit3.forecast(n).rename('Additive Damped')\n",
        "\n",
        "    # Damped Holt's multiplicative model\n",
        "    holt_fit4 = Holt(well_data, exponential=True, damped_trend=True, initialization_method='estimated').fit()\n",
        "    holt_fcast4 = holt_fit4.forecast(n).rename('Multiplicative Damped')\n",
        "\n",
        "    # plotting fitted and forecasted values\n",
        "    plt.figure(figsize=fig_size)\n",
        "    plt.plot(well_data, marker='o', color='black')\n",
        "\n",
        "    plt.plot(holt_fit1.fittedvalues, marker='o', color='blue')\n",
        "    (line1,) = plt.plot(holt_fcast1, marker='o', color='blue')\n",
        "\n",
        "    plt.plot(holt_fit2.fittedvalues, marker='o', color='red')\n",
        "    (line2,) = plt.plot(holt_fcast2, marker='o', color='red')\n",
        "\n",
        "    plt.plot(holt_fit3.fittedvalues, marker='o', color='green')\n",
        "    (line3,) = plt.plot(holt_fcast3, marker='o', color='green')\n",
        "\n",
        "    plt.plot(holt_fit4.fittedvalues, marker='o', color='cyan')\n",
        "    (line4,) = plt.plot(holt_fcast4, marker='o', color='cyan')\n",
        "\n",
        "    plt.title('Holt\\'s Method')\n",
        "    plt.legend([line1, line2, line3, line4], \n",
        "               [holt_fcast1.name, holt_fcast2.name, holt_fcast3.name, holt_fcast4.name])\n",
        "    \n",
        "    return holt_fit1, holt_fit2, holt_fit3, holt_fit4"
      ],
      "metadata": {
        "id": "NuDNB206Y75j"
      },
      "id": "NuDNB206Y75j",
      "execution_count": null,
      "outputs": []
    },
    {
      "cell_type": "markdown",
      "source": [
        "#### Exponential smoothing"
      ],
      "metadata": {
        "id": "Qx6ZssxdlFEs"
      },
      "id": "Qx6ZssxdlFEs"
    },
    {
      "cell_type": "code",
      "source": [
        "def es(well_data):\n",
        "    # fitting and forecasting additive model with and without damping\n",
        "    es_fit1 = ExponentialSmoothing(well_data, \n",
        "                                   trend='add', \n",
        "                                   use_boxcox=True, \n",
        "                                   initialization_method='estimated').fit()\n",
        "    es_fcast1 = es_fit1.forecast(n).rename('Additive')\n",
        "\n",
        "    es_fit2 = ExponentialSmoothing(well_data, \n",
        "                                   trend='add', \n",
        "                                   damped_trend=True, \n",
        "                                   use_boxcox=True, \n",
        "                                   initialization_method='estimated').fit()\n",
        "    es_fcast2 = es_fit2.forecast(n).rename('Additive Damped')\n",
        "\n",
        "    # plotting fitted and forecasted values\n",
        "    plt.figure(figsize=fig_size)\n",
        "    plt.plot(well_data, marker='o', color='black')\n",
        "\n",
        "    plt.plot(es_fit1.fittedvalues, marker='o', color='blue')\n",
        "    (line1,) = plt.plot(es_fcast1, marker='o', color='blue')\n",
        "\n",
        "    plt.plot(es_fit2.fittedvalues, marker='o', color='red')\n",
        "    (line2,) = plt.plot(es_fcast2, marker='o', color='red')\n",
        "\n",
        "    plt.title('Exponential Smoothing')\n",
        "    plt.legend([line1, line2], \n",
        "               [es_fcast1.name, es_fcast2.name])\n",
        "\n",
        "    return es_fit1, es_fit2"
      ],
      "metadata": {
        "id": "HKBu6_y5c17R"
      },
      "id": "HKBu6_y5c17R",
      "execution_count": null,
      "outputs": []
    },
    {
      "cell_type": "markdown",
      "source": [
        "### 4. Fitting models and forecasting"
      ],
      "metadata": {
        "id": "0fUDCoewuhsH"
      },
      "id": "0fUDCoewuhsH"
    },
    {
      "cell_type": "code",
      "source": [
        "# using random data for testing\n",
        "# actual data can't be used due to confidentiality\n",
        "data = [408.2705, 401.4993, 394.6971, 411.9468, 412.2339, 417.7495, 417.1236, \n",
        "        417.5629, 348.3705, 352.2979, 346.3852, 329.7893, 321.4138, 314.4597, \n",
        "        314.2554, 328.6006, 339.2441, 338.884, 329.3724, 318.3311, 309.2867, \n",
        "        300.8307, 292.4742, 290.309, 283.834, 277.5158, 266.6394, 260.6626, \n",
        "        268.3072,263.9177]\n",
        "well_data = pd.Series(data)\n",
        "\n",
        "ax = well_data.plot()\n",
        "ax.set_xlabel('Month')\n",
        "ax.set_ylabel('Gas Production')"
      ],
      "metadata": {
        "colab": {
          "base_uri": "https://localhost:8080/",
          "height": 296
        },
        "id": "38gszZEuu6Gb",
        "outputId": "254aa5aa-492a-445c-8135-9b84fad4871e"
      },
      "id": "38gszZEuu6Gb",
      "execution_count": null,
      "outputs": [
        {
          "output_type": "execute_result",
          "data": {
            "text/plain": [
              "Text(0, 0.5, 'Gas Production')"
            ]
          },
          "metadata": {},
          "execution_count": 9
        },
        {
          "output_type": "display_data",
          "data": {
            "image/png": "[encoded data removed]",
            "text/plain": [
              "<Figure size 432x288 with 1 Axes>"
            ]
          },
          "metadata": {
            "needs_background": "light"
          }
        }
      ]
    },
    {
      "cell_type": "code",
      "source": [
        "ses_fit1, ses_fit2, ses_fit3 = ses(well_data)\n",
        "holt_fit1, holt_fit2, holt_fit3, holt_fit4 = holt(well_data)\n",
        "es_fit1, es_fit2 = es(well_data)"
      ],
      "metadata": {
        "colab": {
          "base_uri": "https://localhost:8080/",
          "height": 1000
        },
        "id": "s18uhYNlyjkx",
        "outputId": "d0bf0f31-a78d-49f0-fa98-541c3e80c760"
      },
      "id": "s18uhYNlyjkx",
      "execution_count": null,
      "outputs": [
        {
          "output_type": "display_data",
          "data": {
            "image/png": "[encoded data removed]",
            "text/plain": [
              "<Figure size 864x576 with 1 Axes>"
            ]
          },
          "metadata": {
            "needs_background": "light"
          }
        },
        {
          "output_type": "display_data",
          "data": {
            "image/png": "[encoded data removed]",
            "text/plain": [
              "<Figure size 864x576 with 1 Axes>"
            ]
          },
          "metadata": {
            "needs_background": "light"
          }
        },
        {
          "output_type": "display_data",
          "data": {
            "image/png": "[encoded data removed]",
            "text/plain": [
              "<Figure size 864x576 with 1 Axes>"
            ]
          },
          "metadata": {
            "needs_background": "light"
          }
        }
      ]
    },
    {
      "cell_type": "markdown",
      "source": [
        "### 5. Results"
      ],
      "metadata": {
        "id": "hvAGukWtqBBn"
      },
      "id": "hvAGukWtqBBn"
    },
    {
      "cell_type": "code",
      "source": [
        "# viewing results\n",
        "model_names = ['SES 0.2',\n",
        "               'SES 0.6',\n",
        "               'SES optim',\n",
        "               'Holt\\'s Additive',\n",
        "               'Holt\\'s Multiplicative',\n",
        "               'Holt\\'s Additive Damped',\n",
        "               'Holt\\'s Multiplicative Damped',\n",
        "               'ES Additive',\n",
        "               'ES Additive Damped']\n",
        "\n",
        "params = [\n",
        "    'smoothing_level',\n",
        "    'smoothing_trend',\n",
        "    'damping_trend',\n",
        "    'initial_level',\n",
        "    'initial_trend'\n",
        "]\n",
        "\n",
        "results = pd.DataFrame(index=['alpha', 'beta', 'phi', 'l_0', 'b_0', 'SSE'])\n",
        "\n",
        "results[model_names[0]] = [ses_fit1.params[p] for p in params] + [ses_fit1.sse]\n",
        "results[model_names[1]] = [ses_fit2.params[p] for p in params] + [ses_fit2.sse]\n",
        "results[model_names[2]] = [ses_fit3.params[p] for p in params] + [ses_fit3.sse]\n",
        "\n",
        "results[model_names[3]] = [holt_fit1.params[p] for p in params] + [holt_fit1.sse]\n",
        "results[model_names[4]] = [holt_fit2.params[p] for p in params] + [holt_fit2.sse]\n",
        "results[model_names[5]] = [holt_fit3.params[p] for p in params] + [holt_fit3.sse]\n",
        "results[model_names[6]] = [holt_fit4.params[p] for p in params] + [holt_fit4.sse]\n",
        "\n",
        "results[model_names[7]] = [es_fit1.params[p] for p in params] + [es_fit1.sse]\n",
        "results[model_names[8]] = [es_fit2.params[p] for p in params] + [es_fit2.sse]\n",
        "\n",
        "results"
      ],
      "metadata": {
        "colab": {
          "base_uri": "https://localhost:8080/",
          "height": 316
        },
        "id": "2otSfSJmfxwP",
        "outputId": "0ed3b220-d0d3-4670-d5a0-4db6f6e73d6f"
      },
      "id": "2otSfSJmfxwP",
      "execution_count": null,
      "outputs": [
        {
          "output_type": "execute_result",
          "data": {
            "text/html": [
              "\n",
              "  <div id=\"df-0d274656-af8a-4691-8a8a-4fdc9afb9958\">\n",
              "    <div class=\"colab-df-container\">\n",
              "      <div>\n",
              "<style scoped>\n",
              "    .dataframe tbody tr th:only-of-type {\n",
              "        vertical-align: middle;\n",
              "    }\n",
              "\n",
              "    .dataframe tbody tr th {\n",
              "        vertical-align: top;\n",
              "    }\n",
              "\n",
              "    .dataframe thead th {\n",
              "        text-align: right;\n",
              "    }\n",
              "</style>\n",
              "<table border=\"1\" class=\"dataframe\">\n",
              "  <thead>\n",
              "    <tr style=\"text-align: right;\">\n",
              "      <th></th>\n",
              "      <th>SES 0.2</th>\n",
              "      <th>SES 0.6</th>\n",
              "      <th>SES optim</th>\n",
              "      <th>Holt's Additive</th>\n",
              "      <th>Holt's Multiplicative</th>\n",
              "      <th>Holt's Additive Damped</th>\n",
              "      <th>Holt's Multiplicative Damped</th>\n",
              "      <th>ES Additive</th>\n",
              "      <th>ES Additive Damped</th>\n",
              "    </tr>\n",
              "  </thead>\n",
              "  <tbody>\n",
              "    <tr>\n",
              "      <th>alpha</th>\n",
              "      <td>0.200000</td>\n",
              "      <td>0.600000</td>\n",
              "      <td>1.000000</td>\n",
              "      <td>0.973991</td>\n",
              "      <td>9.770379e-01</td>\n",
              "      <td>9.743544e-01</td>\n",
              "      <td>0.979193</td>\n",
              "      <td>0.995000</td>\n",
              "      <td>0.995002</td>\n",
              "    </tr>\n",
              "    <tr>\n",
              "      <th>beta</th>\n",
              "      <td>NaN</td>\n",
              "      <td>NaN</td>\n",
              "      <td>NaN</td>\n",
              "      <td>0.000000</td>\n",
              "      <td>2.949755e-10</td>\n",
              "      <td>2.882368e-09</td>\n",
              "      <td>0.000026</td>\n",
              "      <td>0.000099</td>\n",
              "      <td>0.000073</td>\n",
              "    </tr>\n",
              "    <tr>\n",
              "      <th>phi</th>\n",
              "      <td>NaN</td>\n",
              "      <td>NaN</td>\n",
              "      <td>NaN</td>\n",
              "      <td>NaN</td>\n",
              "      <td>NaN</td>\n",
              "      <td>9.950000e-01</td>\n",
              "      <td>0.994984</td>\n",
              "      <td>NaN</td>\n",
              "      <td>0.990016</td>\n",
              "    </tr>\n",
              "    <tr>\n",
              "      <th>l_0</th>\n",
              "      <td>422.851200</td>\n",
              "      <td>422.851200</td>\n",
              "      <td>408.270507</td>\n",
              "      <td>413.200151</td>\n",
              "      <td>4.145781e+02</td>\n",
              "      <td>4.135685e+02</td>\n",
              "      <td>414.952348</td>\n",
              "      <td>1.699121</td>\n",
              "      <td>1.698438</td>\n",
              "    </tr>\n",
              "    <tr>\n",
              "      <th>b_0</th>\n",
              "      <td>NaN</td>\n",
              "      <td>NaN</td>\n",
              "      <td>NaN</td>\n",
              "      <td>-4.976880</td>\n",
              "      <td>9.847541e-01</td>\n",
              "      <td>-5.379413e+00</td>\n",
              "      <td>0.988851</td>\n",
              "      <td>-0.000585</td>\n",
              "      <td>-0.000637</td>\n",
              "    </tr>\n",
              "    <tr>\n",
              "      <th>SSE</th>\n",
              "      <td>27536.060817</td>\n",
              "      <td>9229.194588</td>\n",
              "      <td>6725.681867</td>\n",
              "      <td>6003.087382</td>\n",
              "      <td>5.929547e+03</td>\n",
              "      <td>6.004477e+03</td>\n",
              "      <td>5941.212543</td>\n",
              "      <td>5990.355742</td>\n",
              "      <td>5938.519767</td>\n",
              "    </tr>\n",
              "  </tbody>\n",
              "</table>\n",
              "</div>\n",
              "      <button class=\"colab-df-convert\" onclick=\"convertToInteractive('df-0d274656-af8a-4691-8a8a-4fdc9afb9958')\"\n",
              "              title=\"Convert this dataframe to an interactive table.\"\n",
              "              style=\"display:none;\">\n",
              "        \n",
              "  <svg xmlns=\"http://www.w3.org/2000/svg\" height=\"24px\"viewBox=\"0 0 24 24\"\n",
              "       width=\"24px\">\n",
              "    <path d=\"M0 0h24v24H0V0z\" fill=\"none\"/>\n",
              "    <path d=\"M18.56 5.44l.94 2.06.94-2.06 2.06-.94-2.06-.94-.94-2.06-.94 2.06-2.06.94zm-11 1L8.5 8.5l.94-2.06 2.06-.94-2.06-.94L8.5 2.5l-.94 2.06-2.06.94zm10 10l.94 2.06.94-2.06 2.06-.94-2.06-.94-.94-2.06-.94 2.06-2.06.94z\"/><path d=\"M17.41 7.96l-1.37-1.37c-.4-.4-.92-.59-1.43-.59-.52 0-1.04.2-1.43.59L10.3 9.45l-7.72 7.72c-.78.78-.78 2.05 0 2.83L4 21.41c.39.39.9.59 1.41.59.51 0 1.02-.2 1.41-.59l7.78-7.78 2.81-2.81c.8-.78.8-2.07 0-2.86zM5.41 20L4 18.59l7.72-7.72 1.47 1.35L5.41 20z\"/>\n",
              "  </svg>\n",
              "      </button>\n",
              "      \n",
              "  <style>\n",
              "    .colab-df-container {\n",
              "      display:flex;\n",
              "      flex-wrap:wrap;\n",
              "      gap: 12px;\n",
              "    }\n",
              "\n",
              "    .colab-df-convert {\n",
              "      background-color: #E8F0FE;\n",
              "      border: none;\n",
              "      border-radius: 50%;\n",
              "      cursor: pointer;\n",
              "      display: none;\n",
              "      fill: #1967D2;\n",
              "      height: 32px;\n",
              "      padding: 0 0 0 0;\n",
              "      width: 32px;\n",
              "    }\n",
              "\n",
              "    .colab-df-convert:hover {\n",
              "      background-color: #E2EBFA;\n",
              "      box-shadow: 0px 1px 2px rgba(60, 64, 67, 0.3), 0px 1px 3px 1px rgba(60, 64, 67, 0.15);\n",
              "      fill: #174EA6;\n",
              "    }\n",
              "\n",
              "    [theme=dark] .colab-df-convert {\n",
              "      background-color: #3B4455;\n",
              "      fill: #D2E3FC;\n",
              "    }\n",
              "\n",
              "    [theme=dark] .colab-df-convert:hover {\n",
              "      background-color: #434B5C;\n",
              "      box-shadow: 0px 1px 3px 1px rgba(0, 0, 0, 0.15);\n",
              "      filter: drop-shadow(0px 1px 2px rgba(0, 0, 0, 0.3));\n",
              "      fill: #FFFFFF;\n",
              "    }\n",
              "  </style>\n",
              "\n",
              "      <script>\n",
              "        const buttonEl =\n",
              "          document.querySelector('#df-0d274656-af8a-4691-8a8a-4fdc9afb9958 button.colab-df-convert');\n",
              "        buttonEl.style.display =\n",
              "          google.colab.kernel.accessAllowed ? 'block' : 'none';\n",
              "\n",
              "        async function convertToInteractive(key) {\n",
              "          const element = document.querySelector('#df-0d274656-af8a-4691-8a8a-4fdc9afb9958');\n",
              "          const dataTable =\n",
              "            await google.colab.kernel.invokeFunction('convertToInteractive',\n",
              "                                                     [key], {});\n",
              "          if (!dataTable) return;\n",
              "\n",
              "          const docLinkHtml = 'Like what you see? Visit the ' +\n",
              "            '<a target=\"_blank\" href=https://colab.research.google.com/notebooks/data_table.ipynb>data table notebook</a>'\n",
              "            + ' to learn more about interactive tables.';\n",
              "          element.innerHTML = '';\n",
              "          dataTable['output_type'] = 'display_data';\n",
              "          await google.colab.output.renderOutput(dataTable, element);\n",
              "          const docLink = document.createElement('div');\n",
              "          docLink.innerHTML = docLinkHtml;\n",
              "          element.appendChild(docLink);\n",
              "        }\n",
              "      </script>\n",
              "    </div>\n",
              "  </div>\n",
              "  "
            ],
            "text/plain": [
              "            SES 0.2      SES 0.6  ...  ES Additive  ES Additive Damped\n",
              "alpha      0.200000     0.600000  ...     0.995000            0.995002\n",
              "beta            NaN          NaN  ...     0.000099            0.000073\n",
              "phi             NaN          NaN  ...          NaN            0.990016\n",
              "l_0      422.851200   422.851200  ...     1.699121            1.698438\n",
              "b_0             NaN          NaN  ...    -0.000585           -0.000637\n",
              "SSE    27536.060817  9229.194588  ...  5990.355742         5938.519767\n",
              "\n",
              "[6 rows x 9 columns]"
            ]
          },
          "metadata": {},
          "execution_count": 11
        }
      ]
    },
    {
      "cell_type": "code",
      "source": [
        "# getting best model - with minimum SSE\n",
        "models = [ses_fit1, ses_fit2, ses_fit3, \n",
        "          holt_fit1, holt_fit2, holt_fit3, holt_fit4, \n",
        "          es_fit1, es_fit2]\n",
        "sses = results.loc['SSE']\n",
        "\n",
        "sses_dict = {}\n",
        "for i in range(len(models)):\n",
        "    sses_dict[models[i]] = sses[i]\n",
        "\n",
        "min_sse = sses.min()\n",
        "best_model_index = list(sses_dict.values()).index(min_sse)\n",
        "best_model = list(sses_dict.keys())[best_model_index]\n",
        "\n",
        "print(model_names[best_model_index])\n",
        "print(min_sse)"
      ],
      "metadata": {
        "colab": {
          "base_uri": "https://localhost:8080/"
        },
        "id": "vJUgjQCf0r4Y",
        "outputId": "06d4b2a3-42d5-4736-8806-db6592832c15"
      },
      "id": "vJUgjQCf0r4Y",
      "execution_count": null,
      "outputs": [
        {
          "output_type": "stream",
          "name": "stdout",
          "text": [
            "Holt's Multiplicative\n",
            "5929.547410282388\n"
          ]
        }
      ]
    },
    {
      "cell_type": "markdown",
      "source": [
        "### 6. Forecasting"
      ],
      "metadata": {
        "id": "nqyw9m4vr93i"
      },
      "id": "nqyw9m4vr93i"
    },
    {
      "cell_type": "markdown",
      "source": [
        "#### Test data"
      ],
      "metadata": {
        "id": "KVfpRRd0Paeh"
      },
      "id": "KVfpRRd0Paeh"
    },
    {
      "cell_type": "code",
      "source": [
        "# forecasting last 6 months with best model\n",
        "forecast_df = pd.DataFrame(np.c_[well_data, best_model.level, best_model.fittedvalues], \n",
        "                           columns=['y', 'l', 'y_hat'], \n",
        "                           index=well_data.index)\n",
        "forecast_df = forecast_df.append(best_model.forecast(n).rename('y_hat').to_frame(), sort=True)\n",
        "forecast_df"
      ],
      "metadata": {
        "colab": {
          "base_uri": "https://localhost:8080/",
          "height": 1000
        },
        "id": "lMSIDR4DkeLI",
        "outputId": "822670c5-7ef8-4a93-9a8b-e4e10fd05a1e"
      },
      "id": "lMSIDR4DkeLI",
      "execution_count": null,
      "outputs": [
        {
          "output_type": "execute_result",
          "data": {
            "text/html": [
              "\n",
              "  <div id=\"df-21905e1a-9cbc-4d6b-9e64-816d93edbb2f\">\n",
              "    <div class=\"colab-df-container\">\n",
              "      <div>\n",
              "<style scoped>\n",
              "    .dataframe tbody tr th:only-of-type {\n",
              "        vertical-align: middle;\n",
              "    }\n",
              "\n",
              "    .dataframe tbody tr th {\n",
              "        vertical-align: top;\n",
              "    }\n",
              "\n",
              "    .dataframe thead th {\n",
              "        text-align: right;\n",
              "    }\n",
              "</style>\n",
              "<table border=\"1\" class=\"dataframe\">\n",
              "  <thead>\n",
              "    <tr style=\"text-align: right;\">\n",
              "      <th></th>\n",
              "      <th>l</th>\n",
              "      <th>y</th>\n",
              "      <th>y_hat</th>\n",
              "    </tr>\n",
              "  </thead>\n",
              "  <tbody>\n",
              "    <tr>\n",
              "      <th>0</th>\n",
              "      <td>408.270201</td>\n",
              "      <td>408.2705</td>\n",
              "      <td>408.257458</td>\n",
              "    </tr>\n",
              "    <tr>\n",
              "      <th>1</th>\n",
              "      <td>401.511848</td>\n",
              "      <td>401.4993</td>\n",
              "      <td>402.045762</td>\n",
              "    </tr>\n",
              "    <tr>\n",
              "      <th>2</th>\n",
              "      <td>394.713021</td>\n",
              "      <td>394.6971</td>\n",
              "      <td>395.390446</td>\n",
              "    </tr>\n",
              "    <tr>\n",
              "      <th>3</th>\n",
              "      <td>411.412897</td>\n",
              "      <td>411.9468</td>\n",
              "      <td>388.695273</td>\n",
              "    </tr>\n",
              "    <tr>\n",
              "      <th>4</th>\n",
              "      <td>412.071022</td>\n",
              "      <td>412.2339</td>\n",
              "      <td>405.140545</td>\n",
              "    </tr>\n",
              "    <tr>\n",
              "      <th>5</th>\n",
              "      <td>417.474854</td>\n",
              "      <td>417.7495</td>\n",
              "      <td>405.788636</td>\n",
              "    </tr>\n",
              "    <tr>\n",
              "      <th>6</th>\n",
              "      <td>416.985517</td>\n",
              "      <td>417.1236</td>\n",
              "      <td>411.110082</td>\n",
              "    </tr>\n",
              "    <tr>\n",
              "      <th>7</th>\n",
              "      <td>417.403665</td>\n",
              "      <td>417.5629</td>\n",
              "      <td>410.628206</td>\n",
              "    </tr>\n",
              "    <tr>\n",
              "      <th>8</th>\n",
              "      <td>349.809521</td>\n",
              "      <td>348.3705</td>\n",
              "      <td>411.039979</td>\n",
              "    </tr>\n",
              "    <tr>\n",
              "      <th>9</th>\n",
              "      <td>352.118301</td>\n",
              "      <td>352.2979</td>\n",
              "      <td>344.476367</td>\n",
              "    </tr>\n",
              "    <tr>\n",
              "      <th>10</th>\n",
              "      <td>346.393575</td>\n",
              "      <td>346.3852</td>\n",
              "      <td>346.749948</td>\n",
              "    </tr>\n",
              "    <tr>\n",
              "      <th>11</th>\n",
              "      <td>330.049304</td>\n",
              "      <td>329.7893</td>\n",
              "      <td>341.112500</td>\n",
              "    </tr>\n",
              "    <tr>\n",
              "      <th>12</th>\n",
              "      <td>321.496546</td>\n",
              "      <td>321.4138</td>\n",
              "      <td>325.017412</td>\n",
              "    </tr>\n",
              "    <tr>\n",
              "      <th>13</th>\n",
              "      <td>314.508732</td>\n",
              "      <td>314.4597</td>\n",
              "      <td>316.595048</td>\n",
              "    </tr>\n",
              "    <tr>\n",
              "      <th>14</th>\n",
              "      <td>314.151115</td>\n",
              "      <td>314.2554</td>\n",
              "      <td>309.713769</td>\n",
              "    </tr>\n",
              "    <tr>\n",
              "      <th>15</th>\n",
              "      <td>328.158833</td>\n",
              "      <td>328.6006</td>\n",
              "      <td>309.361604</td>\n",
              "    </tr>\n",
              "    <tr>\n",
              "      <th>16</th>\n",
              "      <td>338.874678</td>\n",
              "      <td>339.2441</td>\n",
              "      <td>323.155762</td>\n",
              "    </tr>\n",
              "    <tr>\n",
              "      <th>17</th>\n",
              "      <td>338.765154</td>\n",
              "      <td>338.8840</td>\n",
              "      <td>333.708236</td>\n",
              "    </tr>\n",
              "    <tr>\n",
              "      <th>18</th>\n",
              "      <td>329.469483</td>\n",
              "      <td>329.3724</td>\n",
              "      <td>333.600381</td>\n",
              "    </tr>\n",
              "    <tr>\n",
              "      <th>19</th>\n",
              "      <td>318.471521</td>\n",
              "      <td>318.3311</td>\n",
              "      <td>324.446431</td>\n",
              "    </tr>\n",
              "    <tr>\n",
              "      <th>20</th>\n",
              "      <td>309.386113</td>\n",
              "      <td>309.2867</td>\n",
              "      <td>313.616142</td>\n",
              "    </tr>\n",
              "    <tr>\n",
              "      <th>21</th>\n",
              "      <td>300.918841</td>\n",
              "      <td>300.8307</td>\n",
              "      <td>304.669249</td>\n",
              "    </tr>\n",
              "    <tr>\n",
              "      <th>22</th>\n",
              "      <td>292.562762</td>\n",
              "      <td>292.4742</td>\n",
              "      <td>296.331068</td>\n",
              "    </tr>\n",
              "    <tr>\n",
              "      <th>23</th>\n",
              "      <td>290.258332</td>\n",
              "      <td>290.3090</td>\n",
              "      <td>288.102385</td>\n",
              "    </tr>\n",
              "    <tr>\n",
              "      <th>24</th>\n",
              "      <td>283.879903</td>\n",
              "      <td>283.8340</td>\n",
              "      <td>285.833088</td>\n",
              "    </tr>\n",
              "    <tr>\n",
              "      <th>25</th>\n",
              "      <td>277.562553</td>\n",
              "      <td>277.5158</td>\n",
              "      <td>279.551904</td>\n",
              "    </tr>\n",
              "    <tr>\n",
              "      <th>26</th>\n",
              "      <td>266.793050</td>\n",
              "      <td>266.6394</td>\n",
              "      <td>273.330868</td>\n",
              "    </tr>\n",
              "    <tr>\n",
              "      <th>27</th>\n",
              "      <td>260.709970</td>\n",
              "      <td>260.6626</td>\n",
              "      <td>262.725555</td>\n",
              "    </tr>\n",
              "    <tr>\n",
              "      <th>28</th>\n",
              "      <td>268.041483</td>\n",
              "      <td>268.3072</td>\n",
              "      <td>256.735217</td>\n",
              "    </tr>\n",
              "    <tr>\n",
              "      <th>29</th>\n",
              "      <td>263.918555</td>\n",
              "      <td>263.9177</td>\n",
              "      <td>263.954955</td>\n",
              "    </tr>\n",
              "    <tr>\n",
              "      <th>30</th>\n",
              "      <td>NaN</td>\n",
              "      <td>NaN</td>\n",
              "      <td>259.894885</td>\n",
              "    </tr>\n",
              "    <tr>\n",
              "      <th>31</th>\n",
              "      <td>NaN</td>\n",
              "      <td>NaN</td>\n",
              "      <td>255.932558</td>\n",
              "    </tr>\n",
              "    <tr>\n",
              "      <th>32</th>\n",
              "      <td>NaN</td>\n",
              "      <td>NaN</td>\n",
              "      <td>252.030641</td>\n",
              "    </tr>\n",
              "    <tr>\n",
              "      <th>33</th>\n",
              "      <td>NaN</td>\n",
              "      <td>NaN</td>\n",
              "      <td>248.188212</td>\n",
              "    </tr>\n",
              "    <tr>\n",
              "      <th>34</th>\n",
              "      <td>NaN</td>\n",
              "      <td>NaN</td>\n",
              "      <td>244.404364</td>\n",
              "    </tr>\n",
              "    <tr>\n",
              "      <th>35</th>\n",
              "      <td>NaN</td>\n",
              "      <td>NaN</td>\n",
              "      <td>240.678204</td>\n",
              "    </tr>\n",
              "  </tbody>\n",
              "</table>\n",
              "</div>\n",
              "      <button class=\"colab-df-convert\" onclick=\"convertToInteractive('df-21905e1a-9cbc-4d6b-9e64-816d93edbb2f')\"\n",
              "              title=\"Convert this dataframe to an interactive table.\"\n",
              "              style=\"display:none;\">\n",
              "        \n",
              "  <svg xmlns=\"http://www.w3.org/2000/svg\" height=\"24px\"viewBox=\"0 0 24 24\"\n",
              "       width=\"24px\">\n",
              "    <path d=\"M0 0h24v24H0V0z\" fill=\"none\"/>\n",
              "    <path d=\"M18.56 5.44l.94 2.06.94-2.06 2.06-.94-2.06-.94-.94-2.06-.94 2.06-2.06.94zm-11 1L8.5 8.5l.94-2.06 2.06-.94-2.06-.94L8.5 2.5l-.94 2.06-2.06.94zm10 10l.94 2.06.94-2.06 2.06-.94-2.06-.94-.94-2.06-.94 2.06-2.06.94z\"/><path d=\"M17.41 7.96l-1.37-1.37c-.4-.4-.92-.59-1.43-.59-.52 0-1.04.2-1.43.59L10.3 9.45l-7.72 7.72c-.78.78-.78 2.05 0 2.83L4 21.41c.39.39.9.59 1.41.59.51 0 1.02-.2 1.41-.59l7.78-7.78 2.81-2.81c.8-.78.8-2.07 0-2.86zM5.41 20L4 18.59l7.72-7.72 1.47 1.35L5.41 20z\"/>\n",
              "  </svg>\n",
              "      </button>\n",
              "      \n",
              "  <style>\n",
              "    .colab-df-container {\n",
              "      display:flex;\n",
              "      flex-wrap:wrap;\n",
              "      gap: 12px;\n",
              "    }\n",
              "\n",
              "    .colab-df-convert {\n",
              "      background-color: #E8F0FE;\n",
              "      border: none;\n",
              "      border-radius: 50%;\n",
              "      cursor: pointer;\n",
              "      display: none;\n",
              "      fill: #1967D2;\n",
              "      height: 32px;\n",
              "      padding: 0 0 0 0;\n",
              "      width: 32px;\n",
              "    }\n",
              "\n",
              "    .colab-df-convert:hover {\n",
              "      background-color: #E2EBFA;\n",
              "      box-shadow: 0px 1px 2px rgba(60, 64, 67, 0.3), 0px 1px 3px 1px rgba(60, 64, 67, 0.15);\n",
              "      fill: #174EA6;\n",
              "    }\n",
              "\n",
              "    [theme=dark] .colab-df-convert {\n",
              "      background-color: #3B4455;\n",
              "      fill: #D2E3FC;\n",
              "    }\n",
              "\n",
              "    [theme=dark] .colab-df-convert:hover {\n",
              "      background-color: #434B5C;\n",
              "      box-shadow: 0px 1px 3px 1px rgba(0, 0, 0, 0.15);\n",
              "      filter: drop-shadow(0px 1px 2px rgba(0, 0, 0, 0.3));\n",
              "      fill: #FFFFFF;\n",
              "    }\n",
              "  </style>\n",
              "\n",
              "      <script>\n",
              "        const buttonEl =\n",
              "          document.querySelector('#df-21905e1a-9cbc-4d6b-9e64-816d93edbb2f button.colab-df-convert');\n",
              "        buttonEl.style.display =\n",
              "          google.colab.kernel.accessAllowed ? 'block' : 'none';\n",
              "\n",
              "        async function convertToInteractive(key) {\n",
              "          const element = document.querySelector('#df-21905e1a-9cbc-4d6b-9e64-816d93edbb2f');\n",
              "          const dataTable =\n",
              "            await google.colab.kernel.invokeFunction('convertToInteractive',\n",
              "                                                     [key], {});\n",
              "          if (!dataTable) return;\n",
              "\n",
              "          const docLinkHtml = 'Like what you see? Visit the ' +\n",
              "            '<a target=\"_blank\" href=https://colab.research.google.com/notebooks/data_table.ipynb>data table notebook</a>'\n",
              "            + ' to learn more about interactive tables.';\n",
              "          element.innerHTML = '';\n",
              "          dataTable['output_type'] = 'display_data';\n",
              "          await google.colab.output.renderOutput(dataTable, element);\n",
              "          const docLink = document.createElement('div');\n",
              "          docLink.innerHTML = docLinkHtml;\n",
              "          element.appendChild(docLink);\n",
              "        }\n",
              "      </script>\n",
              "    </div>\n",
              "  </div>\n",
              "  "
            ],
            "text/plain": [
              "             l         y       y_hat\n",
              "0   408.270201  408.2705  408.257458\n",
              "1   401.511848  401.4993  402.045762\n",
              "2   394.713021  394.6971  395.390446\n",
              "3   411.412897  411.9468  388.695273\n",
              "4   412.071022  412.2339  405.140545\n",
              "5   417.474854  417.7495  405.788636\n",
              "6   416.985517  417.1236  411.110082\n",
              "7   417.403665  417.5629  410.628206\n",
              "8   349.809521  348.3705  411.039979\n",
              "9   352.118301  352.2979  344.476367\n",
              "10  346.393575  346.3852  346.749948\n",
              "11  330.049304  329.7893  341.112500\n",
              "12  321.496546  321.4138  325.017412\n",
              "13  314.508732  314.4597  316.595048\n",
              "14  314.151115  314.2554  309.713769\n",
              "15  328.158833  328.6006  309.361604\n",
              "16  338.874678  339.2441  323.155762\n",
              "17  338.765154  338.8840  333.708236\n",
              "18  329.469483  329.3724  333.600381\n",
              "19  318.471521  318.3311  324.446431\n",
              "20  309.386113  309.2867  313.616142\n",
              "21  300.918841  300.8307  304.669249\n",
              "22  292.562762  292.4742  296.331068\n",
              "23  290.258332  290.3090  288.102385\n",
              "24  283.879903  283.8340  285.833088\n",
              "25  277.562553  277.5158  279.551904\n",
              "26  266.793050  266.6394  273.330868\n",
              "27  260.709970  260.6626  262.725555\n",
              "28  268.041483  268.3072  256.735217\n",
              "29  263.918555  263.9177  263.954955\n",
              "30         NaN       NaN  259.894885\n",
              "31         NaN       NaN  255.932558\n",
              "32         NaN       NaN  252.030641\n",
              "33         NaN       NaN  248.188212\n",
              "34         NaN       NaN  244.404364\n",
              "35         NaN       NaN  240.678204"
            ]
          },
          "metadata": {},
          "execution_count": 13
        }
      ]
    },
    {
      "cell_type": "code",
      "source": [
        "# mean of forecasted last 6 months \n",
        "forecast_df['y_hat'].tail(n).mean()"
      ],
      "metadata": {
        "id": "Ne0qThICn_Kz",
        "colab": {
          "base_uri": "https://localhost:8080/"
        },
        "outputId": "ad61f795-de7f-42ad-ec19-63ba453c9635"
      },
      "id": "Ne0qThICn_Kz",
      "execution_count": null,
      "outputs": [
        {
          "output_type": "execute_result",
          "data": {
            "text/plain": [
              "250.18814411884622"
            ]
          },
          "metadata": {},
          "execution_count": 14
        }
      ]
    },
    {
      "cell_type": "markdown",
      "source": [
        "#### Actual data"
      ],
      "metadata": {
        "id": "PiTZ2NB7PdtZ"
      },
      "id": "PiTZ2NB7PdtZ"
    },
    {
      "cell_type": "code",
      "source": [
        "# forecasting last 6 months with best models\n",
        "best_models = []\n",
        "avgs = []\n",
        "\n",
        "for w in old_wells_df.columns:\n",
        "    well_data = old_wells_df[w]\n",
        "\n",
        "    ses_fit1, ses_fit2, ses_fit3 = ses(well_data)\n",
        "    holt_fit1, holt_fit2, holt_fit3, holt_fit4 = holt(well_data)\n",
        "    es_fit1, es_fit2 = es(well_data)\n",
        "\n",
        "    models = [ses_fit1, ses_fit2, ses_fit3, \n",
        "              holt_fit1, holt_fit2, holt_fit3, holt_fit4, \n",
        "              es_fit1, es_fit2]\n",
        "    sses = [ses_fit1.sse, ses_fit2.sse, ses_fit3.sse, \n",
        "            holt_fit1.sse, holt_fit2.sse, holt_fit3.sse, holt_fit4.sse, \n",
        "            es_fit1.sse, es_fit2.sse]\n",
        "    \n",
        "    sses_dict = {}\n",
        "    for i in range(len(models)):\n",
        "        sses_dict[models[i]] = sses[i]\n",
        "\n",
        "    best_model_index = list(sses_dict.values()).index(min(sses))\n",
        "    # Holt's Additive giving negative values - replacing with SES 0.6\n",
        "    if best_model_index == 3:\n",
        "        best_model_index = 1\n",
        "    best_model = list(sses_dict.keys())[best_model_index]\n",
        "\n",
        "    best_models.append(model_names[best_model_index])\n",
        "    avgs.append(best_model.forecast(n).mean())"
      ],
      "metadata": {
        "id": "hBziZJyhAKX8"
      },
      "id": "hBziZJyhAKX8",
      "execution_count": null,
      "outputs": []
    },
    {
      "cell_type": "code",
      "source": [
        "forecast_df = pd.read_csv('forecast.csv')\n",
        "forecast_df['Last 6 Avg'] = avgs\n",
        "forecast_df.to_csv('forecast1.csv')"
      ],
      "metadata": {
        "id": "OyhMbL4lQ5FH"
      },
      "id": "OyhMbL4lQ5FH",
      "execution_count": null,
      "outputs": []
    },
    {
      "cell_type": "code",
      "source": [
        ""
      ],
      "metadata": {
        "id": "aHlvLAsPWkgS"
      },
      "id": "aHlvLAsPWkgS",
      "execution_count": null,
      "outputs": []
    }
  ],
  "metadata": {
    "kernelspec": {
      "display_name": "Python 3",
      "language": "python",
      "name": "python3"
    },
    "language_info": {
      "codemirror_mode": {
        "name": "ipython",
        "version": 3
      },
      "file_extension": ".py",
      "mimetype": "text/x-python",
      "name": "python",
      "nbconvert_exporter": "python",
      "pygments_lexer": "ipython3",
      "version": "3.8.8"
    },
    "colab": {
      "name": "Old-Wells-Prediction.ipynb",
      "provenance": [],
      "collapsed_sections": [],
      "toc_visible": true
    }
  },
  "nbformat": 4,
  "nbformat_minor": 5
}
